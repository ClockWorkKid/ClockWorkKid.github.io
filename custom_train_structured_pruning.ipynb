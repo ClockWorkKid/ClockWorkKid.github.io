{
 "cells": [
  {
   "cell_type": "code",
   "execution_count": 1,
   "metadata": {},
   "outputs": [
    {
     "name": "stdout",
     "output_type": "stream",
     "text": [
      "Jupyter environment detected. Enabling Open3D WebVisualizer.\n",
      "[Open3D INFO] WebRTC GUI backend enabled.\n",
      "[Open3D INFO] WebRTCWindowSystem: HTTP handshake server disabled.\n"
     ]
    }
   ],
   "source": [
    "import os\n",
    "import torch\n",
    "from tqdm import tqdm\n",
    "import numpy as np\n",
    "\n",
    "import matplotlib.pyplot as plt\n",
    "from utils import setup_seed\n",
    "from dataset import Kitti, get_dataloader\n",
    "from model import PointPillars\n",
    "from loss import Loss\n",
    "from torch.utils.tensorboard import SummaryWriter"
   ]
  },
  {
   "cell_type": "code",
   "execution_count": 7,
   "metadata": {},
   "outputs": [],
   "source": [
    "def save_summary(writer, loss_dict, global_step, tag, lr=None, momentum=None):\n",
    "    for k, v in loss_dict.items():\n",
    "        writer.add_scalar(f'{tag}/{k}', v, global_step)\n",
    "    if lr is not None:\n",
    "        writer.add_scalar('lr', lr, global_step)\n",
    "    if momentum is not None:\n",
    "        writer.add_scalar('momentum', momentum, global_step)"
   ]
  },
  {
   "cell_type": "markdown",
   "metadata": {},
   "source": [
    "### Training Arguments"
   ]
  },
  {
   "cell_type": "code",
   "execution_count": 2,
   "metadata": {},
   "outputs": [],
   "source": [
    "class Args:\n",
    "    def __init__(self):\n",
    "        self.data_root = \"dataset/KITTI\"\n",
    "        self.saved_path = \"logs/pillar_sequence\"\n",
    "        self.batch_size = 4\n",
    "        self.num_workers = 4\n",
    "        self.nclasses = 3\n",
    "        self.init_lr = 0.00025\n",
    "        self.max_epoch = 160\n",
    "        self.log_freq = 8\n",
    "        self.ckpt_freq_epoch = 20\n",
    "        self.no_cuda = not torch.cuda.is_available()\n",
    " \n",
    "args = Args()"
   ]
  },
  {
   "cell_type": "markdown",
   "metadata": {},
   "source": [
    "### Dataloader"
   ]
  },
  {
   "cell_type": "code",
   "execution_count": 3,
   "metadata": {},
   "outputs": [],
   "source": [
    "setup_seed()\n",
    "train_dataset = Kitti(data_root=args.data_root,\n",
    "                        split='train')\n",
    "val_dataset = Kitti(data_root=args.data_root,\n",
    "                    split='val')\n",
    "train_dataloader = get_dataloader(dataset=train_dataset, \n",
    "                                    batch_size=args.batch_size, \n",
    "                                    num_workers=args.num_workers,\n",
    "                                    shuffle=True)\n",
    "val_dataloader = get_dataloader(dataset=val_dataset, \n",
    "                                batch_size=args.batch_size, \n",
    "                                num_workers=args.num_workers,\n",
    "                                shuffle=False)"
   ]
  },
  {
   "cell_type": "markdown",
   "metadata": {},
   "source": [
    "### Model, Loss, Optimizer, Scheduler, Log"
   ]
  },
  {
   "cell_type": "code",
   "execution_count": 4,
   "metadata": {},
   "outputs": [],
   "source": [
    "if not args.no_cuda:\n",
    "    pointpillars = PointPillars(nclasses=args.nclasses).cuda()\n",
    "else:\n",
    "    pointpillars = PointPillars(nclasses=args.nclasses)\n",
    "\n",
    "loss_func = Loss()\n",
    "\n",
    "max_iters = 2*len(train_dataloader) * args.max_epoch\n",
    "init_lr = args.init_lr\n",
    "optimizer = torch.optim.AdamW(params=pointpillars.parameters(), \n",
    "                                lr=init_lr, \n",
    "                                betas=(0.95, 0.99),\n",
    "                                weight_decay=0.01)\n",
    "scheduler = torch.optim.lr_scheduler.OneCycleLR(optimizer,  \n",
    "                                                max_lr=init_lr*10, \n",
    "                                                total_steps=max_iters, \n",
    "                                                pct_start=0.4, \n",
    "                                                anneal_strategy='cos',\n",
    "                                                cycle_momentum=True, \n",
    "                                                base_momentum=0.95*0.895, \n",
    "                                                max_momentum=0.95,\n",
    "                                                div_factor=10)\n",
    "\n",
    "saved_logs_path = os.path.join(args.saved_path, 'summary')\n",
    "os.makedirs(saved_logs_path, exist_ok=True)\n",
    "writer = SummaryWriter(saved_logs_path)\n",
    "saved_ckpt_path = os.path.join(args.saved_path, 'checkpoints')\n",
    "os.makedirs(saved_ckpt_path, exist_ok=True)"
   ]
  },
  {
   "cell_type": "code",
   "execution_count": 6,
   "metadata": {},
   "outputs": [
    {
     "data": {
      "text/plain": [
       "'\\nfor i, data_dict in enumerate(tqdm(train_dataloader)):\\n    if not args.no_cuda:\\n        # move the tensors to the cuda\\n        print(\"Here\")\\n        for key in data_dict:\\n            for j, item in enumerate(data_dict[key]):\\n                if torch.is_tensor(item):\\n                    data_dict[key][j] = data_dict[key][j].cuda()\\n    \\n    optimizer.zero_grad()\\n\\n    batched_pts = data_dict[\\'batched_pts\\']\\n    batched_gt_bboxes = data_dict[\\'batched_gt_bboxes\\']\\n    batched_labels = data_dict[\\'batched_labels\\']\\n    batched_difficulty = data_dict[\\'batched_difficulty\\']\\n    bbox_cls_pred0, bbox_pred0, bbox_dir_cls_pred0,         bbox_cls_pred1, bbox_pred1, bbox_dir_cls_pred1,             bbox_cls_pred2, bbox_pred2, bbox_dir_cls_pred2, anchor_target_dict =                 pointpillars(batched_pts=batched_pts, \\n                                mode=\\'train\\',\\n                                batched_gt_bboxes=batched_gt_bboxes, \\n                                batched_gt_labels=batched_labels)\\n    \\n    break\\n\\n'"
      ]
     },
     "execution_count": 6,
     "metadata": {},
     "output_type": "execute_result"
    }
   ],
   "source": [
    "'''\n",
    "for i, data_dict in enumerate(tqdm(train_dataloader)):\n",
    "    if not args.no_cuda:\n",
    "        # move the tensors to the cuda\n",
    "        print(\"Here\")\n",
    "        for key in data_dict:\n",
    "            for j, item in enumerate(data_dict[key]):\n",
    "                if torch.is_tensor(item):\n",
    "                    data_dict[key][j] = data_dict[key][j].cuda()\n",
    "    \n",
    "    optimizer.zero_grad()\n",
    "\n",
    "    batched_pts = data_dict['batched_pts']\n",
    "    batched_gt_bboxes = data_dict['batched_gt_bboxes']\n",
    "    batched_labels = data_dict['batched_labels']\n",
    "    batched_difficulty = data_dict['batched_difficulty']\n",
    "    bbox_cls_pred0, bbox_pred0, bbox_dir_cls_pred0, \\\n",
    "        bbox_cls_pred1, bbox_pred1, bbox_dir_cls_pred1, \\\n",
    "            bbox_cls_pred2, bbox_pred2, bbox_dir_cls_pred2, anchor_target_dict = \\\n",
    "                pointpillars(batched_pts=batched_pts, \n",
    "                                mode='train',\n",
    "                                batched_gt_bboxes=batched_gt_bboxes, \n",
    "                                batched_gt_labels=batched_labels)\n",
    "    \n",
    "    break\n",
    "\n",
    "'''"
   ]
  },
  {
   "cell_type": "markdown",
   "metadata": {},
   "source": [
    "### Training"
   ]
  },
  {
   "cell_type": "code",
   "execution_count": 5,
   "metadata": {},
   "outputs": [],
   "source": [
    "training_loss0 = []\n",
    "# training_loss1 = []\n",
    "# training_loss2 = []\n",
    "\n",
    "val_loss0 = []\n",
    "# val_loss1 = []\n",
    "# val_loss2 = []"
   ]
  },
  {
   "cell_type": "code",
   "execution_count": 10,
   "metadata": {},
   "outputs": [
    {
     "name": "stdout",
     "output_type": "stream",
     "text": [
      "==================== 0 ====================\n"
     ]
    },
    {
     "name": "stderr",
     "output_type": "stream",
     "text": [
      "  0%|          | 0/799 [00:00<?, ?it/s]"
     ]
    },
    {
     "name": "stderr",
     "output_type": "stream",
     "text": [
      "100%|██████████| 799/799 [07:20<00:00,  1.81it/s]\n"
     ]
    },
    {
     "name": "stdout",
     "output_type": "stream",
     "text": [
      "==================== 1 ====================\n"
     ]
    },
    {
     "name": "stderr",
     "output_type": "stream",
     "text": [
      "100%|██████████| 799/799 [07:25<00:00,  1.80it/s]\n",
      "100%|██████████| 720/720 [02:57<00:00,  4.05it/s]\n"
     ]
    },
    {
     "name": "stdout",
     "output_type": "stream",
     "text": [
      "==================== 2 ====================\n"
     ]
    },
    {
     "name": "stderr",
     "output_type": "stream",
     "text": [
      "100%|██████████| 799/799 [07:28<00:00,  1.78it/s]\n"
     ]
    },
    {
     "name": "stdout",
     "output_type": "stream",
     "text": [
      "==================== 3 ====================\n"
     ]
    },
    {
     "name": "stderr",
     "output_type": "stream",
     "text": [
      "100%|██████████| 799/799 [07:30<00:00,  1.77it/s]\n",
      "100%|██████████| 720/720 [02:58<00:00,  4.03it/s]\n"
     ]
    },
    {
     "name": "stdout",
     "output_type": "stream",
     "text": [
      "==================== 4 ====================\n"
     ]
    },
    {
     "name": "stderr",
     "output_type": "stream",
     "text": [
      "100%|██████████| 799/799 [07:33<00:00,  1.76it/s]\n"
     ]
    },
    {
     "name": "stdout",
     "output_type": "stream",
     "text": [
      "==================== 5 ====================\n"
     ]
    },
    {
     "name": "stderr",
     "output_type": "stream",
     "text": [
      "100%|██████████| 799/799 [07:31<00:00,  1.77it/s]\n",
      "100%|██████████| 720/720 [02:58<00:00,  4.03it/s]\n"
     ]
    },
    {
     "name": "stdout",
     "output_type": "stream",
     "text": [
      "==================== 6 ====================\n"
     ]
    },
    {
     "name": "stderr",
     "output_type": "stream",
     "text": [
      "100%|██████████| 799/799 [07:32<00:00,  1.77it/s]\n"
     ]
    },
    {
     "name": "stdout",
     "output_type": "stream",
     "text": [
      "==================== 7 ====================\n"
     ]
    },
    {
     "name": "stderr",
     "output_type": "stream",
     "text": [
      "100%|██████████| 799/799 [07:31<00:00,  1.77it/s]\n",
      "100%|██████████| 720/720 [02:58<00:00,  4.04it/s]\n"
     ]
    },
    {
     "name": "stdout",
     "output_type": "stream",
     "text": [
      "==================== 8 ====================\n"
     ]
    },
    {
     "name": "stderr",
     "output_type": "stream",
     "text": [
      "100%|██████████| 799/799 [07:31<00:00,  1.77it/s]\n"
     ]
    },
    {
     "name": "stdout",
     "output_type": "stream",
     "text": [
      "==================== 9 ====================\n"
     ]
    },
    {
     "name": "stderr",
     "output_type": "stream",
     "text": [
      "100%|██████████| 799/799 [07:32<00:00,  1.76it/s]\n",
      "100%|██████████| 720/720 [02:57<00:00,  4.06it/s]\n"
     ]
    },
    {
     "name": "stdout",
     "output_type": "stream",
     "text": [
      "==================== 10 ====================\n"
     ]
    },
    {
     "name": "stderr",
     "output_type": "stream",
     "text": [
      "100%|██████████| 799/799 [07:31<00:00,  1.77it/s]\n"
     ]
    },
    {
     "name": "stdout",
     "output_type": "stream",
     "text": [
      "==================== 11 ====================\n"
     ]
    },
    {
     "name": "stderr",
     "output_type": "stream",
     "text": [
      "100%|██████████| 799/799 [07:21<00:00,  1.81it/s]\n",
      "100%|██████████| 720/720 [02:53<00:00,  4.14it/s]\n"
     ]
    },
    {
     "name": "stdout",
     "output_type": "stream",
     "text": [
      "==================== 12 ====================\n"
     ]
    },
    {
     "name": "stderr",
     "output_type": "stream",
     "text": [
      "100%|██████████| 799/799 [07:24<00:00,  1.80it/s]\n"
     ]
    },
    {
     "name": "stdout",
     "output_type": "stream",
     "text": [
      "==================== 13 ====================\n"
     ]
    },
    {
     "name": "stderr",
     "output_type": "stream",
     "text": [
      "100%|██████████| 799/799 [07:23<00:00,  1.80it/s]\n",
      "100%|██████████| 720/720 [02:52<00:00,  4.18it/s]\n"
     ]
    },
    {
     "name": "stdout",
     "output_type": "stream",
     "text": [
      "==================== 14 ====================\n"
     ]
    },
    {
     "name": "stderr",
     "output_type": "stream",
     "text": [
      "100%|██████████| 799/799 [07:19<00:00,  1.82it/s]\n"
     ]
    },
    {
     "name": "stdout",
     "output_type": "stream",
     "text": [
      "==================== 15 ====================\n"
     ]
    },
    {
     "name": "stderr",
     "output_type": "stream",
     "text": [
      "100%|██████████| 799/799 [07:22<00:00,  1.81it/s]\n",
      "100%|██████████| 720/720 [02:54<00:00,  4.13it/s]\n"
     ]
    },
    {
     "name": "stdout",
     "output_type": "stream",
     "text": [
      "==================== 16 ====================\n"
     ]
    },
    {
     "name": "stderr",
     "output_type": "stream",
     "text": [
      "100%|██████████| 799/799 [07:23<00:00,  1.80it/s]\n"
     ]
    },
    {
     "name": "stdout",
     "output_type": "stream",
     "text": [
      "==================== 17 ====================\n"
     ]
    },
    {
     "name": "stderr",
     "output_type": "stream",
     "text": [
      "100%|██████████| 799/799 [07:20<00:00,  1.81it/s]\n",
      "100%|██████████| 720/720 [02:52<00:00,  4.17it/s]\n"
     ]
    },
    {
     "name": "stdout",
     "output_type": "stream",
     "text": [
      "==================== 18 ====================\n"
     ]
    },
    {
     "name": "stderr",
     "output_type": "stream",
     "text": [
      "100%|██████████| 799/799 [07:21<00:00,  1.81it/s]\n"
     ]
    },
    {
     "name": "stdout",
     "output_type": "stream",
     "text": [
      "==================== 19 ====================\n"
     ]
    },
    {
     "name": "stderr",
     "output_type": "stream",
     "text": [
      "100%|██████████| 799/799 [07:24<00:00,  1.80it/s]\n"
     ]
    },
    {
     "data": {
      "image/png": "[encoded data removed]",
      "text/plain": [
       "<Figure size 640x480 with 1 Axes>"
      ]
     },
     "metadata": {},
     "output_type": "display_data"
    },
    {
     "data": {
      "image/png": "[encoded data removed]",
      "text/plain": [
       "<Figure size 640x480 with 1 Axes>"
      ]
     },
     "metadata": {},
     "output_type": "display_data"
    },
    {
     "name": "stderr",
     "output_type": "stream",
     "text": [
      "100%|██████████| 720/720 [02:53<00:00,  4.14it/s]\n"
     ]
    },
    {
     "name": "stdout",
     "output_type": "stream",
     "text": [
      "==================== 20 ====================\n"
     ]
    },
    {
     "name": "stderr",
     "output_type": "stream",
     "text": [
      "100%|██████████| 799/799 [07:20<00:00,  1.81it/s]\n"
     ]
    },
    {
     "name": "stdout",
     "output_type": "stream",
     "text": [
      "==================== 21 ====================\n"
     ]
    },
    {
     "name": "stderr",
     "output_type": "stream",
     "text": [
      "100%|██████████| 799/799 [07:21<00:00,  1.81it/s]\n",
      "100%|██████████| 720/720 [02:53<00:00,  4.14it/s]\n"
     ]
    },
    {
     "name": "stdout",
     "output_type": "stream",
     "text": [
      "==================== 22 ====================\n"
     ]
    },
    {
     "name": "stderr",
     "output_type": "stream",
     "text": [
      "100%|██████████| 799/799 [07:24<00:00,  1.80it/s]\n"
     ]
    },
    {
     "name": "stdout",
     "output_type": "stream",
     "text": [
      "==================== 23 ====================\n"
     ]
    },
    {
     "name": "stderr",
     "output_type": "stream",
     "text": [
      "100%|██████████| 799/799 [07:23<00:00,  1.80it/s]\n",
      "100%|██████████| 720/720 [02:52<00:00,  4.18it/s]\n"
     ]
    },
    {
     "name": "stdout",
     "output_type": "stream",
     "text": [
      "==================== 24 ====================\n"
     ]
    },
    {
     "name": "stderr",
     "output_type": "stream",
     "text": [
      "100%|██████████| 799/799 [07:19<00:00,  1.82it/s]\n"
     ]
    },
    {
     "name": "stdout",
     "output_type": "stream",
     "text": [
      "==================== 25 ====================\n"
     ]
    },
    {
     "name": "stderr",
     "output_type": "stream",
     "text": [
      "100%|██████████| 799/799 [07:22<00:00,  1.81it/s]\n",
      "100%|██████████| 720/720 [02:54<00:00,  4.13it/s]\n"
     ]
    },
    {
     "name": "stdout",
     "output_type": "stream",
     "text": [
      "==================== 26 ====================\n"
     ]
    },
    {
     "name": "stderr",
     "output_type": "stream",
     "text": [
      "100%|██████████| 799/799 [07:23<00:00,  1.80it/s]\n"
     ]
    },
    {
     "name": "stdout",
     "output_type": "stream",
     "text": [
      "==================== 27 ====================\n"
     ]
    },
    {
     "name": "stderr",
     "output_type": "stream",
     "text": [
      "100%|██████████| 799/799 [07:21<00:00,  1.81it/s]\n",
      "100%|██████████| 720/720 [02:52<00:00,  4.17it/s]\n"
     ]
    },
    {
     "name": "stdout",
     "output_type": "stream",
     "text": [
      "==================== 28 ====================\n"
     ]
    },
    {
     "name": "stderr",
     "output_type": "stream",
     "text": [
      "100%|██████████| 799/799 [07:21<00:00,  1.81it/s]\n"
     ]
    },
    {
     "name": "stdout",
     "output_type": "stream",
     "text": [
      "==================== 29 ====================\n"
     ]
    },
    {
     "name": "stderr",
     "output_type": "stream",
     "text": [
      "100%|██████████| 799/799 [07:24<00:00,  1.80it/s]\n",
      "100%|██████████| 720/720 [02:54<00:00,  4.13it/s]\n"
     ]
    },
    {
     "name": "stdout",
     "output_type": "stream",
     "text": [
      "==================== 30 ====================\n"
     ]
    },
    {
     "name": "stderr",
     "output_type": "stream",
     "text": [
      "100%|██████████| 799/799 [07:21<00:00,  1.81it/s]\n"
     ]
    },
    {
     "name": "stdout",
     "output_type": "stream",
     "text": [
      "==================== 31 ====================\n"
     ]
    },
    {
     "name": "stderr",
     "output_type": "stream",
     "text": [
      "100%|██████████| 799/799 [07:19<00:00,  1.82it/s]\n",
      "100%|██████████| 720/720 [02:53<00:00,  4.16it/s]\n"
     ]
    },
    {
     "name": "stdout",
     "output_type": "stream",
     "text": [
      "==================== 32 ====================\n"
     ]
    },
    {
     "name": "stderr",
     "output_type": "stream",
     "text": [
      "100%|██████████| 799/799 [07:23<00:00,  1.80it/s]\n"
     ]
    },
    {
     "name": "stdout",
     "output_type": "stream",
     "text": [
      "==================== 33 ====================\n"
     ]
    },
    {
     "name": "stderr",
     "output_type": "stream",
     "text": [
      "100%|██████████| 799/799 [07:24<00:00,  1.80it/s]\n",
      "100%|██████████| 720/720 [02:53<00:00,  4.15it/s]\n"
     ]
    },
    {
     "name": "stdout",
     "output_type": "stream",
     "text": [
      "==================== 34 ====================\n"
     ]
    },
    {
     "name": "stderr",
     "output_type": "stream",
     "text": [
      "100%|██████████| 799/799 [07:19<00:00,  1.82it/s]\n"
     ]
    },
    {
     "name": "stdout",
     "output_type": "stream",
     "text": [
      "==================== 35 ====================\n"
     ]
    },
    {
     "name": "stderr",
     "output_type": "stream",
     "text": [
      "100%|██████████| 799/799 [07:20<00:00,  1.81it/s]\n",
      "100%|██████████| 720/720 [02:54<00:00,  4.13it/s]\n"
     ]
    },
    {
     "name": "stdout",
     "output_type": "stream",
     "text": [
      "==================== 36 ====================\n"
     ]
    },
    {
     "name": "stderr",
     "output_type": "stream",
     "text": [
      "100%|██████████| 799/799 [07:23<00:00,  1.80it/s]\n"
     ]
    },
    {
     "name": "stdout",
     "output_type": "stream",
     "text": [
      "==================== 37 ====================\n"
     ]
    },
    {
     "name": "stderr",
     "output_type": "stream",
     "text": [
      "100%|██████████| 799/799 [07:21<00:00,  1.81it/s]\n",
      "100%|██████████| 720/720 [02:52<00:00,  4.18it/s]\n"
     ]
    },
    {
     "name": "stdout",
     "output_type": "stream",
     "text": [
      "==================== 38 ====================\n"
     ]
    },
    {
     "name": "stderr",
     "output_type": "stream",
     "text": [
      "100%|██████████| 799/799 [07:19<00:00,  1.82it/s]\n"
     ]
    },
    {
     "name": "stdout",
     "output_type": "stream",
     "text": [
      "==================== 39 ====================\n"
     ]
    },
    {
     "name": "stderr",
     "output_type": "stream",
     "text": [
      "100%|██████████| 799/799 [07:24<00:00,  1.80it/s]\n"
     ]
    },
    {
     "data": {
      "image/png": "[encoded data removed]",
      "text/plain": [
       "<Figure size 640x480 with 1 Axes>"
      ]
     },
     "metadata": {},
     "output_type": "display_data"
    },
    {
     "data": {
      "image/png": "[encoded data removed]",
      "text/plain": [
       "<Figure size 640x480 with 1 Axes>"
      ]
     },
     "metadata": {},
     "output_type": "display_data"
    },
    {
     "name": "stderr",
     "output_type": "stream",
     "text": [
      "100%|██████████| 720/720 [02:54<00:00,  4.13it/s]\n"
     ]
    },
    {
     "name": "stdout",
     "output_type": "stream",
     "text": [
      "==================== 40 ====================\n"
     ]
    },
    {
     "name": "stderr",
     "output_type": "stream",
     "text": [
      "100%|██████████| 799/799 [07:23<00:00,  1.80it/s]\n"
     ]
    },
    {
     "name": "stdout",
     "output_type": "stream",
     "text": [
      "==================== 41 ====================\n"
     ]
    },
    {
     "name": "stderr",
     "output_type": "stream",
     "text": [
      "100%|██████████| 799/799 [07:19<00:00,  1.82it/s]\n",
      "100%|██████████| 720/720 [02:53<00:00,  4.16it/s]\n"
     ]
    },
    {
     "name": "stdout",
     "output_type": "stream",
     "text": [
      "==================== 42 ====================\n"
     ]
    },
    {
     "name": "stderr",
     "output_type": "stream",
     "text": [
      "100%|██████████| 799/799 [07:23<00:00,  1.80it/s]\n"
     ]
    },
    {
     "name": "stdout",
     "output_type": "stream",
     "text": [
      "==================== 43 ====================\n"
     ]
    },
    {
     "name": "stderr",
     "output_type": "stream",
     "text": [
      "100%|██████████| 799/799 [07:23<00:00,  1.80it/s]\n",
      "100%|██████████| 720/720 [02:54<00:00,  4.12it/s]\n"
     ]
    },
    {
     "name": "stdout",
     "output_type": "stream",
     "text": [
      "==================== 44 ====================\n"
     ]
    },
    {
     "name": "stderr",
     "output_type": "stream",
     "text": [
      "100%|██████████| 799/799 [07:21<00:00,  1.81it/s]\n"
     ]
    },
    {
     "name": "stdout",
     "output_type": "stream",
     "text": [
      "==================== 45 ====================\n"
     ]
    },
    {
     "name": "stderr",
     "output_type": "stream",
     "text": [
      "100%|██████████| 799/799 [07:20<00:00,  1.82it/s]\n",
      "100%|██████████| 720/720 [02:54<00:00,  4.13it/s]\n"
     ]
    },
    {
     "name": "stdout",
     "output_type": "stream",
     "text": [
      "==================== 46 ====================\n"
     ]
    },
    {
     "name": "stderr",
     "output_type": "stream",
     "text": [
      "100%|██████████| 799/799 [07:24<00:00,  1.80it/s]\n"
     ]
    },
    {
     "name": "stdout",
     "output_type": "stream",
     "text": [
      "==================== 47 ====================\n"
     ]
    },
    {
     "name": "stderr",
     "output_type": "stream",
     "text": [
      "100%|██████████| 799/799 [07:23<00:00,  1.80it/s]\n",
      "100%|██████████| 720/720 [02:52<00:00,  4.18it/s]\n"
     ]
    },
    {
     "name": "stdout",
     "output_type": "stream",
     "text": [
      "==================== 48 ====================\n"
     ]
    },
    {
     "name": "stderr",
     "output_type": "stream",
     "text": [
      "100%|██████████| 799/799 [07:19<00:00,  1.82it/s]\n"
     ]
    },
    {
     "name": "stdout",
     "output_type": "stream",
     "text": [
      "==================== 49 ====================\n"
     ]
    },
    {
     "name": "stderr",
     "output_type": "stream",
     "text": [
      "100%|██████████| 799/799 [07:23<00:00,  1.80it/s]\n",
      "100%|██████████| 720/720 [02:54<00:00,  4.14it/s]\n"
     ]
    },
    {
     "name": "stdout",
     "output_type": "stream",
     "text": [
      "==================== 50 ====================\n"
     ]
    },
    {
     "name": "stderr",
     "output_type": "stream",
     "text": [
      "100%|██████████| 799/799 [07:25<00:00,  1.79it/s]\n"
     ]
    },
    {
     "name": "stdout",
     "output_type": "stream",
     "text": [
      "==================== 51 ====================\n"
     ]
    },
    {
     "name": "stderr",
     "output_type": "stream",
     "text": [
      "100%|██████████| 799/799 [07:21<00:00,  1.81it/s]\n",
      "100%|██████████| 720/720 [02:52<00:00,  4.18it/s]\n"
     ]
    },
    {
     "name": "stdout",
     "output_type": "stream",
     "text": [
      "==================== 52 ====================\n"
     ]
    },
    {
     "name": "stderr",
     "output_type": "stream",
     "text": [
      "100%|██████████| 799/799 [07:21<00:00,  1.81it/s]\n"
     ]
    },
    {
     "name": "stdout",
     "output_type": "stream",
     "text": [
      "==================== 53 ====================\n"
     ]
    },
    {
     "name": "stderr",
     "output_type": "stream",
     "text": [
      "100%|██████████| 799/799 [07:23<00:00,  1.80it/s]\n",
      "100%|██████████| 720/720 [02:54<00:00,  4.12it/s]\n"
     ]
    },
    {
     "name": "stdout",
     "output_type": "stream",
     "text": [
      "==================== 54 ====================\n"
     ]
    },
    {
     "name": "stderr",
     "output_type": "stream",
     "text": [
      "100%|██████████| 799/799 [07:21<00:00,  1.81it/s]\n"
     ]
    },
    {
     "name": "stdout",
     "output_type": "stream",
     "text": [
      "==================== 55 ====================\n"
     ]
    },
    {
     "name": "stderr",
     "output_type": "stream",
     "text": [
      "100%|██████████| 799/799 [07:19<00:00,  1.82it/s]\n",
      "100%|██████████| 720/720 [02:53<00:00,  4.15it/s]\n"
     ]
    },
    {
     "name": "stdout",
     "output_type": "stream",
     "text": [
      "==================== 56 ====================\n"
     ]
    },
    {
     "name": "stderr",
     "output_type": "stream",
     "text": [
      "100%|██████████| 799/799 [07:24<00:00,  1.80it/s]\n"
     ]
    },
    {
     "name": "stdout",
     "output_type": "stream",
     "text": [
      "==================== 57 ====================\n"
     ]
    },
    {
     "name": "stderr",
     "output_type": "stream",
     "text": [
      "100%|██████████| 799/799 [07:23<00:00,  1.80it/s]\n",
      "100%|██████████| 720/720 [02:52<00:00,  4.17it/s]\n"
     ]
    },
    {
     "name": "stdout",
     "output_type": "stream",
     "text": [
      "==================== 58 ====================\n"
     ]
    },
    {
     "name": "stderr",
     "output_type": "stream",
     "text": [
      "100%|██████████| 799/799 [07:19<00:00,  1.82it/s]\n"
     ]
    },
    {
     "name": "stdout",
     "output_type": "stream",
     "text": [
      "==================== 59 ====================\n"
     ]
    },
    {
     "name": "stderr",
     "output_type": "stream",
     "text": [
      "100%|██████████| 799/799 [07:20<00:00,  1.81it/s]\n"
     ]
    },
    {
     "data": {
      "image/png": "[encoded data removed]",
      "text/plain": [
       "<Figure size 640x480 with 1 Axes>"
      ]
     },
     "metadata": {},
     "output_type": "display_data"
    },
    {
     "data": {
      "image/png": "[encoded data removed]",
      "text/plain": [
       "<Figure size 640x480 with 1 Axes>"
      ]
     },
     "metadata": {},
     "output_type": "display_data"
    },
    {
     "name": "stderr",
     "output_type": "stream",
     "text": [
      "100%|██████████| 720/720 [02:53<00:00,  4.14it/s]\n"
     ]
    },
    {
     "name": "stdout",
     "output_type": "stream",
     "text": [
      "==================== 60 ====================\n"
     ]
    },
    {
     "name": "stderr",
     "output_type": "stream",
     "text": [
      "100%|██████████| 799/799 [07:25<00:00,  1.79it/s]\n"
     ]
    },
    {
     "name": "stdout",
     "output_type": "stream",
     "text": [
      "==================== 61 ====================\n"
     ]
    },
    {
     "name": "stderr",
     "output_type": "stream",
     "text": [
      "100%|██████████| 799/799 [07:22<00:00,  1.81it/s]\n",
      "100%|██████████| 720/720 [02:52<00:00,  4.17it/s]\n"
     ]
    },
    {
     "name": "stdout",
     "output_type": "stream",
     "text": [
      "==================== 62 ====================\n"
     ]
    },
    {
     "name": "stderr",
     "output_type": "stream",
     "text": [
      "100%|██████████| 799/799 [07:19<00:00,  1.82it/s]\n"
     ]
    },
    {
     "name": "stdout",
     "output_type": "stream",
     "text": [
      "==================== 63 ====================\n"
     ]
    },
    {
     "name": "stderr",
     "output_type": "stream",
     "text": [
      "100%|██████████| 799/799 [07:23<00:00,  1.80it/s]\n",
      "100%|██████████| 720/720 [02:54<00:00,  4.13it/s]\n"
     ]
    },
    {
     "name": "stdout",
     "output_type": "stream",
     "text": [
      "==================== 64 ====================\n"
     ]
    },
    {
     "name": "stderr",
     "output_type": "stream",
     "text": [
      "100%|██████████| 799/799 [07:22<00:00,  1.80it/s]\n"
     ]
    },
    {
     "name": "stdout",
     "output_type": "stream",
     "text": [
      "==================== 65 ====================\n"
     ]
    },
    {
     "name": "stderr",
     "output_type": "stream",
     "text": [
      "100%|██████████| 799/799 [07:18<00:00,  1.82it/s]\n",
      "100%|██████████| 720/720 [02:52<00:00,  4.18it/s]\n"
     ]
    },
    {
     "name": "stdout",
     "output_type": "stream",
     "text": [
      "==================== 66 ====================\n"
     ]
    },
    {
     "name": "stderr",
     "output_type": "stream",
     "text": [
      "100%|██████████| 799/799 [07:23<00:00,  1.80it/s]\n"
     ]
    },
    {
     "name": "stdout",
     "output_type": "stream",
     "text": [
      "==================== 67 ====================\n"
     ]
    },
    {
     "name": "stderr",
     "output_type": "stream",
     "text": [
      "100%|██████████| 799/799 [07:24<00:00,  1.80it/s]\n",
      "100%|██████████| 720/720 [02:53<00:00,  4.16it/s]\n"
     ]
    },
    {
     "name": "stdout",
     "output_type": "stream",
     "text": [
      "==================== 68 ====================\n"
     ]
    },
    {
     "name": "stderr",
     "output_type": "stream",
     "text": [
      "100%|██████████| 799/799 [07:19<00:00,  1.82it/s]\n"
     ]
    },
    {
     "name": "stdout",
     "output_type": "stream",
     "text": [
      "==================== 69 ====================\n"
     ]
    },
    {
     "name": "stderr",
     "output_type": "stream",
     "text": [
      "100%|██████████| 799/799 [07:20<00:00,  1.81it/s]\n",
      "100%|██████████| 720/720 [02:53<00:00,  4.15it/s]\n"
     ]
    },
    {
     "name": "stdout",
     "output_type": "stream",
     "text": [
      "==================== 70 ====================\n"
     ]
    },
    {
     "name": "stderr",
     "output_type": "stream",
     "text": [
      "100%|██████████| 799/799 [07:23<00:00,  1.80it/s]\n"
     ]
    },
    {
     "name": "stdout",
     "output_type": "stream",
     "text": [
      "==================== 71 ====================\n"
     ]
    },
    {
     "name": "stderr",
     "output_type": "stream",
     "text": [
      "100%|██████████| 799/799 [07:21<00:00,  1.81it/s]\n",
      "100%|██████████| 720/720 [02:51<00:00,  4.20it/s]\n"
     ]
    },
    {
     "name": "stdout",
     "output_type": "stream",
     "text": [
      "==================== 72 ====================\n"
     ]
    },
    {
     "name": "stderr",
     "output_type": "stream",
     "text": [
      "100%|██████████| 799/799 [07:20<00:00,  1.81it/s]\n"
     ]
    },
    {
     "name": "stdout",
     "output_type": "stream",
     "text": [
      "==================== 73 ====================\n"
     ]
    },
    {
     "name": "stderr",
     "output_type": "stream",
     "text": [
      "100%|██████████| 799/799 [07:23<00:00,  1.80it/s]\n",
      "100%|██████████| 720/720 [02:53<00:00,  4.14it/s]\n"
     ]
    },
    {
     "name": "stdout",
     "output_type": "stream",
     "text": [
      "==================== 74 ====================\n"
     ]
    },
    {
     "name": "stderr",
     "output_type": "stream",
     "text": [
      "100%|██████████| 799/799 [07:22<00:00,  1.81it/s]\n"
     ]
    },
    {
     "name": "stdout",
     "output_type": "stream",
     "text": [
      "==================== 75 ====================\n"
     ]
    },
    {
     "name": "stderr",
     "output_type": "stream",
     "text": [
      "100%|██████████| 799/799 [07:19<00:00,  1.82it/s]\n",
      "100%|██████████| 720/720 [02:52<00:00,  4.18it/s]\n"
     ]
    },
    {
     "name": "stdout",
     "output_type": "stream",
     "text": [
      "==================== 76 ====================\n"
     ]
    },
    {
     "name": "stderr",
     "output_type": "stream",
     "text": [
      "100%|██████████| 799/799 [07:20<00:00,  1.81it/s]\n"
     ]
    },
    {
     "name": "stdout",
     "output_type": "stream",
     "text": [
      "==================== 77 ====================\n"
     ]
    },
    {
     "name": "stderr",
     "output_type": "stream",
     "text": [
      "100%|██████████| 799/799 [07:23<00:00,  1.80it/s]\n",
      "100%|██████████| 720/720 [02:53<00:00,  4.16it/s]\n"
     ]
    },
    {
     "name": "stdout",
     "output_type": "stream",
     "text": [
      "==================== 78 ====================\n"
     ]
    },
    {
     "name": "stderr",
     "output_type": "stream",
     "text": [
      "100%|██████████| 799/799 [07:20<00:00,  1.81it/s]\n"
     ]
    },
    {
     "name": "stdout",
     "output_type": "stream",
     "text": [
      "==================== 79 ====================\n"
     ]
    },
    {
     "name": "stderr",
     "output_type": "stream",
     "text": [
      "100%|██████████| 799/799 [07:18<00:00,  1.82it/s]\n"
     ]
    },
    {
     "data": {
      "image/png": "[encoded data removed]",
      "text/plain": [
       "<Figure size 640x480 with 1 Axes>"
      ]
     },
     "metadata": {},
     "output_type": "display_data"
    },
    {
     "data": {
      "image/png": "[encoded data removed]",
      "text/plain": [
       "<Figure size 640x480 with 1 Axes>"
      ]
     },
     "metadata": {},
     "output_type": "display_data"
    },
    {
     "name": "stderr",
     "output_type": "stream",
     "text": [
      "100%|██████████| 720/720 [02:51<00:00,  4.19it/s]\n"
     ]
    },
    {
     "name": "stdout",
     "output_type": "stream",
     "text": [
      "==================== 80 ====================\n"
     ]
    },
    {
     "name": "stderr",
     "output_type": "stream",
     "text": [
      "100%|██████████| 799/799 [07:22<00:00,  1.80it/s]\n"
     ]
    },
    {
     "name": "stdout",
     "output_type": "stream",
     "text": [
      "==================== 81 ====================\n"
     ]
    },
    {
     "name": "stderr",
     "output_type": "stream",
     "text": [
      "100%|██████████| 799/799 [07:22<00:00,  1.81it/s]\n",
      "100%|██████████| 720/720 [02:51<00:00,  4.20it/s]\n"
     ]
    },
    {
     "name": "stdout",
     "output_type": "stream",
     "text": [
      "==================== 82 ====================\n"
     ]
    },
    {
     "name": "stderr",
     "output_type": "stream",
     "text": [
      "100%|██████████| 799/799 [07:18<00:00,  1.82it/s]\n"
     ]
    },
    {
     "name": "stdout",
     "output_type": "stream",
     "text": [
      "==================== 83 ====================\n"
     ]
    },
    {
     "name": "stderr",
     "output_type": "stream",
     "text": [
      "100%|██████████| 799/799 [07:22<00:00,  1.80it/s]\n",
      "100%|██████████| 720/720 [02:54<00:00,  4.13it/s]\n"
     ]
    },
    {
     "name": "stdout",
     "output_type": "stream",
     "text": [
      "==================== 84 ====================\n"
     ]
    },
    {
     "name": "stderr",
     "output_type": "stream",
     "text": [
      "100%|██████████| 799/799 [07:22<00:00,  1.80it/s]\n"
     ]
    },
    {
     "name": "stdout",
     "output_type": "stream",
     "text": [
      "==================== 85 ====================\n"
     ]
    },
    {
     "name": "stderr",
     "output_type": "stream",
     "text": [
      "100%|██████████| 799/799 [07:19<00:00,  1.82it/s]\n",
      "100%|██████████| 720/720 [02:52<00:00,  4.18it/s]\n"
     ]
    },
    {
     "name": "stdout",
     "output_type": "stream",
     "text": [
      "==================== 86 ====================\n"
     ]
    },
    {
     "name": "stderr",
     "output_type": "stream",
     "text": [
      "100%|██████████| 799/799 [07:21<00:00,  1.81it/s]\n"
     ]
    },
    {
     "name": "stdout",
     "output_type": "stream",
     "text": [
      "==================== 87 ====================\n"
     ]
    },
    {
     "name": "stderr",
     "output_type": "stream",
     "text": [
      "100%|██████████| 799/799 [07:23<00:00,  1.80it/s]\n",
      "100%|██████████| 720/720 [02:53<00:00,  4.15it/s]\n"
     ]
    },
    {
     "name": "stdout",
     "output_type": "stream",
     "text": [
      "==================== 88 ====================\n"
     ]
    },
    {
     "name": "stderr",
     "output_type": "stream",
     "text": [
      "100%|██████████| 799/799 [07:20<00:00,  1.82it/s]\n"
     ]
    },
    {
     "name": "stdout",
     "output_type": "stream",
     "text": [
      "==================== 89 ====================\n"
     ]
    },
    {
     "name": "stderr",
     "output_type": "stream",
     "text": [
      "100%|██████████| 799/799 [07:18<00:00,  1.82it/s]\n",
      "100%|██████████| 720/720 [02:51<00:00,  4.20it/s]\n"
     ]
    },
    {
     "name": "stdout",
     "output_type": "stream",
     "text": [
      "==================== 90 ====================\n"
     ]
    },
    {
     "name": "stderr",
     "output_type": "stream",
     "text": [
      "100%|██████████| 799/799 [07:22<00:00,  1.80it/s]\n"
     ]
    },
    {
     "name": "stdout",
     "output_type": "stream",
     "text": [
      "==================== 91 ====================\n"
     ]
    },
    {
     "name": "stderr",
     "output_type": "stream",
     "text": [
      "100%|██████████| 799/799 [07:23<00:00,  1.80it/s]\n",
      "100%|██████████| 720/720 [02:52<00:00,  4.17it/s]\n"
     ]
    },
    {
     "name": "stdout",
     "output_type": "stream",
     "text": [
      "==================== 92 ====================\n"
     ]
    },
    {
     "name": "stderr",
     "output_type": "stream",
     "text": [
      "100%|██████████| 799/799 [07:19<00:00,  1.82it/s]\n"
     ]
    },
    {
     "name": "stdout",
     "output_type": "stream",
     "text": [
      "==================== 93 ====================\n"
     ]
    },
    {
     "name": "stderr",
     "output_type": "stream",
     "text": [
      "100%|██████████| 799/799 [07:19<00:00,  1.82it/s]\n",
      "100%|██████████| 720/720 [02:53<00:00,  4.15it/s]\n"
     ]
    },
    {
     "name": "stdout",
     "output_type": "stream",
     "text": [
      "==================== 94 ====================\n"
     ]
    },
    {
     "name": "stderr",
     "output_type": "stream",
     "text": [
      "100%|██████████| 799/799 [07:22<00:00,  1.80it/s]\n"
     ]
    },
    {
     "name": "stdout",
     "output_type": "stream",
     "text": [
      "==================== 95 ====================\n"
     ]
    },
    {
     "name": "stderr",
     "output_type": "stream",
     "text": [
      "100%|██████████| 799/799 [07:22<00:00,  1.81it/s]\n",
      "100%|██████████| 720/720 [02:51<00:00,  4.19it/s]\n"
     ]
    },
    {
     "name": "stdout",
     "output_type": "stream",
     "text": [
      "==================== 96 ====================\n"
     ]
    },
    {
     "name": "stderr",
     "output_type": "stream",
     "text": [
      "100%|██████████| 799/799 [07:18<00:00,  1.82it/s]\n"
     ]
    },
    {
     "name": "stdout",
     "output_type": "stream",
     "text": [
      "==================== 97 ====================\n"
     ]
    },
    {
     "name": "stderr",
     "output_type": "stream",
     "text": [
      "100%|██████████| 799/799 [07:23<00:00,  1.80it/s]\n",
      "100%|██████████| 720/720 [02:53<00:00,  4.14it/s]\n"
     ]
    },
    {
     "name": "stdout",
     "output_type": "stream",
     "text": [
      "==================== 98 ====================\n"
     ]
    },
    {
     "name": "stderr",
     "output_type": "stream",
     "text": [
      "100%|██████████| 799/799 [07:21<00:00,  1.81it/s]\n"
     ]
    },
    {
     "name": "stdout",
     "output_type": "stream",
     "text": [
      "==================== 99 ====================\n"
     ]
    },
    {
     "name": "stderr",
     "output_type": "stream",
     "text": [
      "100%|██████████| 799/799 [07:18<00:00,  1.82it/s]\n"
     ]
    },
    {
     "data": {
      "image/png": "[encoded data removed]",
      "text/plain": [
       "<Figure size 640x480 with 1 Axes>"
      ]
     },
     "metadata": {},
     "output_type": "display_data"
    },
    {
     "data": {
      "image/png": "[encoded data removed]",
      "text/plain": [
       "<Figure size 640x480 with 1 Axes>"
      ]
     },
     "metadata": {},
     "output_type": "display_data"
    },
    {
     "name": "stderr",
     "output_type": "stream",
     "text": [
      "100%|██████████| 720/720 [02:52<00:00,  4.18it/s]\n"
     ]
    },
    {
     "name": "stdout",
     "output_type": "stream",
     "text": [
      "==================== 100 ====================\n"
     ]
    },
    {
     "name": "stderr",
     "output_type": "stream",
     "text": [
      "100%|██████████| 799/799 [07:23<00:00,  1.80it/s]\n"
     ]
    },
    {
     "name": "stdout",
     "output_type": "stream",
     "text": [
      "==================== 101 ====================\n"
     ]
    },
    {
     "name": "stderr",
     "output_type": "stream",
     "text": [
      "100%|██████████| 799/799 [07:23<00:00,  1.80it/s]\n",
      "100%|██████████| 720/720 [02:53<00:00,  4.14it/s]\n"
     ]
    },
    {
     "name": "stdout",
     "output_type": "stream",
     "text": [
      "==================== 102 ====================\n"
     ]
    },
    {
     "name": "stderr",
     "output_type": "stream",
     "text": [
      "100%|██████████| 799/799 [07:20<00:00,  1.81it/s]\n"
     ]
    },
    {
     "name": "stdout",
     "output_type": "stream",
     "text": [
      "==================== 103 ====================\n"
     ]
    },
    {
     "name": "stderr",
     "output_type": "stream",
     "text": [
      "100%|██████████| 799/799 [07:19<00:00,  1.82it/s]\n",
      "100%|██████████| 720/720 [02:52<00:00,  4.17it/s]\n"
     ]
    },
    {
     "name": "stdout",
     "output_type": "stream",
     "text": [
      "==================== 104 ====================\n"
     ]
    },
    {
     "name": "stderr",
     "output_type": "stream",
     "text": [
      "100%|██████████| 799/799 [07:23<00:00,  1.80it/s]\n"
     ]
    },
    {
     "name": "stdout",
     "output_type": "stream",
     "text": [
      "==================== 105 ====================\n"
     ]
    },
    {
     "name": "stderr",
     "output_type": "stream",
     "text": [
      "100%|██████████| 799/799 [07:24<00:00,  1.80it/s]\n",
      "100%|██████████| 720/720 [02:51<00:00,  4.19it/s]\n"
     ]
    },
    {
     "name": "stdout",
     "output_type": "stream",
     "text": [
      "==================== 106 ====================\n"
     ]
    },
    {
     "name": "stderr",
     "output_type": "stream",
     "text": [
      "100%|██████████| 799/799 [07:18<00:00,  1.82it/s]\n"
     ]
    },
    {
     "name": "stdout",
     "output_type": "stream",
     "text": [
      "==================== 107 ====================\n"
     ]
    },
    {
     "name": "stderr",
     "output_type": "stream",
     "text": [
      "100%|██████████| 799/799 [07:23<00:00,  1.80it/s]\n",
      "100%|██████████| 720/720 [02:53<00:00,  4.16it/s]\n"
     ]
    },
    {
     "name": "stdout",
     "output_type": "stream",
     "text": [
      "==================== 108 ====================\n"
     ]
    },
    {
     "name": "stderr",
     "output_type": "stream",
     "text": [
      "100%|██████████| 799/799 [07:25<00:00,  1.80it/s]\n"
     ]
    },
    {
     "name": "stdout",
     "output_type": "stream",
     "text": [
      "==================== 109 ====================\n"
     ]
    },
    {
     "name": "stderr",
     "output_type": "stream",
     "text": [
      "100%|██████████| 799/799 [07:20<00:00,  1.81it/s]\n",
      "100%|██████████| 720/720 [02:50<00:00,  4.21it/s]\n"
     ]
    },
    {
     "name": "stdout",
     "output_type": "stream",
     "text": [
      "==================== 110 ====================\n"
     ]
    },
    {
     "name": "stderr",
     "output_type": "stream",
     "text": [
      "100%|██████████| 799/799 [07:22<00:00,  1.81it/s]\n"
     ]
    },
    {
     "name": "stdout",
     "output_type": "stream",
     "text": [
      "==================== 111 ====================\n"
     ]
    },
    {
     "name": "stderr",
     "output_type": "stream",
     "text": [
      "100%|██████████| 799/799 [07:25<00:00,  1.79it/s]\n",
      "100%|██████████| 720/720 [02:52<00:00,  4.16it/s]\n"
     ]
    },
    {
     "name": "stdout",
     "output_type": "stream",
     "text": [
      "==================== 112 ====================\n"
     ]
    },
    {
     "name": "stderr",
     "output_type": "stream",
     "text": [
      "100%|██████████| 799/799 [07:23<00:00,  1.80it/s]\n"
     ]
    },
    {
     "name": "stdout",
     "output_type": "stream",
     "text": [
      "==================== 113 ====================\n"
     ]
    },
    {
     "name": "stderr",
     "output_type": "stream",
     "text": [
      "100%|██████████| 799/799 [07:18<00:00,  1.82it/s]\n",
      "100%|██████████| 720/720 [02:51<00:00,  4.19it/s]\n"
     ]
    },
    {
     "name": "stdout",
     "output_type": "stream",
     "text": [
      "==================== 114 ====================\n"
     ]
    },
    {
     "name": "stderr",
     "output_type": "stream",
     "text": [
      "100%|██████████| 799/799 [07:23<00:00,  1.80it/s]\n"
     ]
    },
    {
     "name": "stdout",
     "output_type": "stream",
     "text": [
      "==================== 115 ====================\n"
     ]
    },
    {
     "name": "stderr",
     "output_type": "stream",
     "text": [
      "100%|██████████| 799/799 [07:25<00:00,  1.79it/s]\n",
      "100%|██████████| 720/720 [02:53<00:00,  4.15it/s]\n"
     ]
    },
    {
     "name": "stdout",
     "output_type": "stream",
     "text": [
      "==================== 116 ====================\n"
     ]
    },
    {
     "name": "stderr",
     "output_type": "stream",
     "text": [
      "100%|██████████| 799/799 [07:19<00:00,  1.82it/s]\n"
     ]
    },
    {
     "name": "stdout",
     "output_type": "stream",
     "text": [
      "==================== 117 ====================\n"
     ]
    },
    {
     "name": "stderr",
     "output_type": "stream",
     "text": [
      "100%|██████████| 799/799 [07:23<00:00,  1.80it/s]\n",
      "100%|██████████| 720/720 [02:58<00:00,  4.03it/s]\n"
     ]
    },
    {
     "name": "stdout",
     "output_type": "stream",
     "text": [
      "==================== 118 ====================\n"
     ]
    },
    {
     "name": "stderr",
     "output_type": "stream",
     "text": [
      "100%|██████████| 799/799 [07:30<00:00,  1.77it/s]\n"
     ]
    },
    {
     "name": "stdout",
     "output_type": "stream",
     "text": [
      "==================== 119 ====================\n"
     ]
    },
    {
     "name": "stderr",
     "output_type": "stream",
     "text": [
      "100%|██████████| 799/799 [07:27<00:00,  1.79it/s]\n"
     ]
    },
    {
     "data": {
      "image/png": "[encoded data removed]",
      "text/plain": [
       "<Figure size 640x480 with 1 Axes>"
      ]
     },
     "metadata": {},
     "output_type": "display_data"
    },
    {
     "data": {
      "image/png": "[encoded data removed]",
      "text/plain": [
       "<Figure size 640x480 with 1 Axes>"
      ]
     },
     "metadata": {},
     "output_type": "display_data"
    },
    {
     "name": "stderr",
     "output_type": "stream",
     "text": [
      "100%|██████████| 720/720 [02:41<00:00,  4.47it/s]\n"
     ]
    },
    {
     "name": "stdout",
     "output_type": "stream",
     "text": [
      "==================== 120 ====================\n"
     ]
    },
    {
     "name": "stderr",
     "output_type": "stream",
     "text": [
      "100%|██████████| 799/799 [06:53<00:00,  1.93it/s]\n"
     ]
    },
    {
     "name": "stdout",
     "output_type": "stream",
     "text": [
      "==================== 121 ====================\n"
     ]
    },
    {
     "name": "stderr",
     "output_type": "stream",
     "text": [
      "100%|██████████| 799/799 [06:53<00:00,  1.93it/s]\n",
      "100%|██████████| 720/720 [02:41<00:00,  4.46it/s]\n"
     ]
    },
    {
     "name": "stdout",
     "output_type": "stream",
     "text": [
      "==================== 122 ====================\n"
     ]
    },
    {
     "name": "stderr",
     "output_type": "stream",
     "text": [
      "100%|██████████| 799/799 [06:51<00:00,  1.94it/s]\n"
     ]
    },
    {
     "name": "stdout",
     "output_type": "stream",
     "text": [
      "==================== 123 ====================\n"
     ]
    },
    {
     "name": "stderr",
     "output_type": "stream",
     "text": [
      "100%|██████████| 799/799 [06:51<00:00,  1.94it/s]\n",
      "100%|██████████| 720/720 [02:40<00:00,  4.47it/s]\n"
     ]
    },
    {
     "name": "stdout",
     "output_type": "stream",
     "text": [
      "==================== 124 ====================\n"
     ]
    },
    {
     "name": "stderr",
     "output_type": "stream",
     "text": [
      "100%|██████████| 799/799 [06:51<00:00,  1.94it/s]\n"
     ]
    },
    {
     "name": "stdout",
     "output_type": "stream",
     "text": [
      "==================== 125 ====================\n"
     ]
    },
    {
     "name": "stderr",
     "output_type": "stream",
     "text": [
      "100%|██████████| 799/799 [06:52<00:00,  1.94it/s]\n",
      "100%|██████████| 720/720 [02:41<00:00,  4.45it/s]\n"
     ]
    },
    {
     "name": "stdout",
     "output_type": "stream",
     "text": [
      "==================== 126 ====================\n"
     ]
    },
    {
     "name": "stderr",
     "output_type": "stream",
     "text": [
      "100%|██████████| 799/799 [06:53<00:00,  1.93it/s]\n"
     ]
    },
    {
     "name": "stdout",
     "output_type": "stream",
     "text": [
      "==================== 127 ====================\n"
     ]
    },
    {
     "name": "stderr",
     "output_type": "stream",
     "text": [
      "100%|██████████| 799/799 [06:51<00:00,  1.94it/s]\n",
      "100%|██████████| 720/720 [02:41<00:00,  4.45it/s]\n"
     ]
    },
    {
     "name": "stdout",
     "output_type": "stream",
     "text": [
      "==================== 128 ====================\n"
     ]
    },
    {
     "name": "stderr",
     "output_type": "stream",
     "text": [
      "100%|██████████| 799/799 [06:54<00:00,  1.93it/s]\n"
     ]
    },
    {
     "name": "stdout",
     "output_type": "stream",
     "text": [
      "==================== 129 ====================\n"
     ]
    },
    {
     "name": "stderr",
     "output_type": "stream",
     "text": [
      "100%|██████████| 799/799 [06:50<00:00,  1.95it/s]\n",
      "100%|██████████| 720/720 [02:44<00:00,  4.39it/s]\n"
     ]
    },
    {
     "name": "stdout",
     "output_type": "stream",
     "text": [
      "==================== 130 ====================\n"
     ]
    },
    {
     "name": "stderr",
     "output_type": "stream",
     "text": [
      "100%|██████████| 799/799 [06:52<00:00,  1.94it/s]\n"
     ]
    },
    {
     "name": "stdout",
     "output_type": "stream",
     "text": [
      "==================== 131 ====================\n"
     ]
    },
    {
     "name": "stderr",
     "output_type": "stream",
     "text": [
      "100%|██████████| 799/799 [06:51<00:00,  1.94it/s]\n",
      "100%|██████████| 720/720 [02:42<00:00,  4.44it/s]\n"
     ]
    },
    {
     "name": "stdout",
     "output_type": "stream",
     "text": [
      "==================== 132 ====================\n"
     ]
    },
    {
     "name": "stderr",
     "output_type": "stream",
     "text": [
      "100%|██████████| 799/799 [06:52<00:00,  1.94it/s]\n"
     ]
    },
    {
     "name": "stdout",
     "output_type": "stream",
     "text": [
      "==================== 133 ====================\n"
     ]
    },
    {
     "name": "stderr",
     "output_type": "stream",
     "text": [
      "100%|██████████| 799/799 [06:52<00:00,  1.94it/s]\n",
      "100%|██████████| 720/720 [02:40<00:00,  4.47it/s]\n"
     ]
    },
    {
     "name": "stdout",
     "output_type": "stream",
     "text": [
      "==================== 134 ====================\n"
     ]
    },
    {
     "name": "stderr",
     "output_type": "stream",
     "text": [
      "100%|██████████| 799/799 [06:51<00:00,  1.94it/s]\n"
     ]
    },
    {
     "name": "stdout",
     "output_type": "stream",
     "text": [
      "==================== 135 ====================\n"
     ]
    },
    {
     "name": "stderr",
     "output_type": "stream",
     "text": [
      "100%|██████████| 799/799 [06:52<00:00,  1.94it/s]\n",
      "100%|██████████| 720/720 [02:41<00:00,  4.47it/s]\n"
     ]
    },
    {
     "name": "stdout",
     "output_type": "stream",
     "text": [
      "==================== 136 ====================\n"
     ]
    },
    {
     "name": "stderr",
     "output_type": "stream",
     "text": [
      "100%|██████████| 799/799 [06:51<00:00,  1.94it/s]\n"
     ]
    },
    {
     "name": "stdout",
     "output_type": "stream",
     "text": [
      "==================== 137 ====================\n"
     ]
    },
    {
     "name": "stderr",
     "output_type": "stream",
     "text": [
      "100%|██████████| 799/799 [06:52<00:00,  1.94it/s]\n",
      "100%|██████████| 720/720 [02:40<00:00,  4.48it/s]\n"
     ]
    },
    {
     "name": "stdout",
     "output_type": "stream",
     "text": [
      "==================== 138 ====================\n"
     ]
    },
    {
     "name": "stderr",
     "output_type": "stream",
     "text": [
      "100%|██████████| 799/799 [06:57<00:00,  1.91it/s]\n"
     ]
    },
    {
     "name": "stdout",
     "output_type": "stream",
     "text": [
      "==================== 139 ====================\n"
     ]
    },
    {
     "name": "stderr",
     "output_type": "stream",
     "text": [
      "100%|██████████| 799/799 [07:01<00:00,  1.90it/s]\n"
     ]
    },
    {
     "data": {
      "image/png": "[encoded data removed]",
      "text/plain": [
       "<Figure size 640x480 with 1 Axes>"
      ]
     },
     "metadata": {},
     "output_type": "display_data"
    },
    {
     "data": {
      "image/png": "[encoded data removed]",
      "text/plain": [
       "<Figure size 640x480 with 1 Axes>"
      ]
     },
     "metadata": {},
     "output_type": "display_data"
    },
    {
     "name": "stderr",
     "output_type": "stream",
     "text": [
      " 13%|█▎        | 97/720 [00:23<02:30,  4.15it/s]"
     ]
    }
   ],
   "source": [
    "for epoch in range(args.max_epoch):\n",
    "# for epoch in range(args.max_epoch):\n",
    "    epoch_loss0 = 0\n",
    "    # epoch_loss1 = 0\n",
    "    # epoch_loss2 = 0\n",
    "\n",
    "    val_epoch_loss0 = 0\n",
    "    # val_epoch_loss1 = 0\n",
    "    # val_epoch_loss2 = 0\n",
    "\n",
    "    print('=' * 20, epoch, '=' * 20)\n",
    "    train_step, val_step = 0, 0\n",
    "    for i, data_dict in enumerate(tqdm(train_dataloader)):\n",
    "        if not args.no_cuda:\n",
    "            # move the tensors to the cuda\n",
    "            for key in data_dict:\n",
    "                for j, item in enumerate(data_dict[key]):\n",
    "                    if torch.is_tensor(item):\n",
    "                        data_dict[key][j] = data_dict[key][j].cuda()\n",
    "        \n",
    "        optimizer.zero_grad()\n",
    "\n",
    "        batched_pts = data_dict['batched_pts']\n",
    "        batched_gt_bboxes = data_dict['batched_gt_bboxes']\n",
    "        batched_labels = data_dict['batched_labels']\n",
    "        batched_difficulty = data_dict['batched_difficulty']\n",
    "\n",
    "\n",
    "        bbox_cls_pred0, bbox_pred0, bbox_dir_cls_pred0, anchor_target_dict = pointpillars(batched_pts=batched_pts, \n",
    "                                    mode='train',\n",
    "                                    batched_gt_bboxes=batched_gt_bboxes, \n",
    "                                    batched_gt_labels=batched_labels)#\\\n",
    "            # bbox_cls_pred1, bbox_pred1, bbox_dir_cls_pred1, \\\n",
    "            #     bbox_cls_pred2, bbox_pred2, bbox_dir_cls_pred2,  = \\\n",
    "\n",
    "        \n",
    "        ################# Full features #################\n",
    "        bbox_cls_pred0 = bbox_cls_pred0.permute(0, 2, 3, 1).reshape(-1, args.nclasses)\n",
    "        bbox_pred0 = bbox_pred0.permute(0, 2, 3, 1).reshape(-1, 7)\n",
    "        bbox_dir_cls_pred0 = bbox_dir_cls_pred0.permute(0, 2, 3, 1).reshape(-1, 2)\n",
    "\n",
    "        # ################# Half features #################\n",
    "        # bbox_cls_pred1 = bbox_cls_pred1.permute(0, 2, 3, 1).reshape(-1, args.nclasses)\n",
    "        # bbox_pred1 = bbox_pred1.permute(0, 2, 3, 1).reshape(-1, 7)\n",
    "        # bbox_dir_cls_pred1 = bbox_dir_cls_pred1.permute(0, 2, 3, 1).reshape(-1, 2)\n",
    "\n",
    "        # ################# Quar features #################\n",
    "        # bbox_cls_pred2 = bbox_cls_pred2.permute(0, 2, 3, 1).reshape(-1, args.nclasses)\n",
    "        # bbox_pred2 = bbox_pred2.permute(0, 2, 3, 1).reshape(-1, 7)\n",
    "        # bbox_dir_cls_pred2 = bbox_dir_cls_pred2.permute(0, 2, 3, 1).reshape(-1, 2)\n",
    "\n",
    "\n",
    "        batched_bbox_labels = anchor_target_dict['batched_labels'].reshape(-1)\n",
    "        batched_label_weights = anchor_target_dict['batched_label_weights'].reshape(-1)\n",
    "        batched_bbox_reg = anchor_target_dict['batched_bbox_reg'].reshape(-1, 7)\n",
    "        batched_dir_labels = anchor_target_dict['batched_dir_labels'].reshape(-1)\n",
    "\n",
    "\n",
    "        \n",
    "        pos_idx = (batched_bbox_labels >= 0) & (batched_bbox_labels < args.nclasses)\n",
    "\n",
    "        bbox_pred0 = bbox_pred0[pos_idx]\n",
    "        # bbox_pred1 = bbox_pred1[pos_idx]\n",
    "        # bbox_pred2 = bbox_pred2[pos_idx]\n",
    "\n",
    "        batched_bbox_reg = batched_bbox_reg[pos_idx]\n",
    "        batched_bbox_reg0 = batched_bbox_reg.clone()\n",
    "        # batched_bbox_reg1 = batched_bbox_reg.clone()\n",
    "        # batched_bbox_reg2 = batched_bbox_reg.clone()\n",
    "\n",
    "        # sin(a - b) = sin(a)*cos(b) - cos(a)*sin(b)\n",
    "        bbox_pred0[:, -1] = torch.sin(bbox_pred0[:, -1].clone()) * torch.cos(batched_bbox_reg[:, -1].clone())\n",
    "        # bbox_pred1[:, -1] = torch.sin(bbox_pred1[:, -1].clone()) * torch.cos(batched_bbox_reg[:, -1].clone())\n",
    "        # bbox_pred2[:, -1] = torch.sin(bbox_pred2[:, -1].clone()) * torch.cos(batched_bbox_reg[:, -1].clone())\n",
    "\n",
    "        batched_bbox_reg0[:, -1] = torch.cos(bbox_pred0[:, -1].clone()) * torch.sin(batched_bbox_reg[:, -1].clone())\n",
    "        # batched_bbox_reg1[:, -1] = torch.cos(bbox_pred1[:, -1].clone()) * torch.sin(batched_bbox_reg[:, -1].clone())\n",
    "        # batched_bbox_reg2[:, -1] = torch.cos(bbox_pred2[:, -1].clone()) * torch.sin(batched_bbox_reg[:, -1].clone())\n",
    "\n",
    "\n",
    "        bbox_dir_cls_pred0 = bbox_dir_cls_pred0[pos_idx]\n",
    "        # bbox_dir_cls_pred1 = bbox_dir_cls_pred1[pos_idx]\n",
    "        # bbox_dir_cls_pred2 = bbox_dir_cls_pred2[pos_idx]\n",
    "\n",
    "        batched_dir_labels = batched_dir_labels[pos_idx]\n",
    "\n",
    "        num_cls_pos = (batched_bbox_labels < args.nclasses).sum()\n",
    "\n",
    "        bbox_cls_pred0 = bbox_cls_pred0[batched_label_weights > 0]\n",
    "        # bbox_cls_pred1 = bbox_cls_pred1[batched_label_weights > 0]\n",
    "        # bbox_cls_pred2 = bbox_cls_pred2[batched_label_weights > 0]\n",
    "\n",
    "        batched_bbox_labels[batched_bbox_labels < 0] = args.nclasses\n",
    "        batched_bbox_labels = batched_bbox_labels[batched_label_weights > 0]\n",
    "\n",
    "        loss_dict0 = loss_func(bbox_cls_pred=bbox_cls_pred0,\n",
    "                                bbox_pred=bbox_pred0,\n",
    "                                bbox_dir_cls_pred=bbox_dir_cls_pred0,\n",
    "                                batched_labels=batched_bbox_labels, \n",
    "                                num_cls_pos=num_cls_pos, \n",
    "                                batched_bbox_reg=batched_bbox_reg0, \n",
    "                                batched_dir_labels=batched_dir_labels)\n",
    "        \n",
    "        # loss_dict1 = loss_func(bbox_cls_pred=bbox_cls_pred1,\n",
    "        #                         bbox_pred=bbox_pred1,\n",
    "        #                         bbox_dir_cls_pred=bbox_dir_cls_pred1,\n",
    "        #                         batched_labels=batched_bbox_labels, \n",
    "        #                         num_cls_pos=num_cls_pos, \n",
    "        #                         batched_bbox_reg=batched_bbox_reg1, \n",
    "        #                         batched_dir_labels=batched_dir_labels)\n",
    "        \n",
    "        # loss_dict2 = loss_func(bbox_cls_pred=bbox_cls_pred2,\n",
    "        #                         bbox_pred=bbox_pred2,\n",
    "        #                         bbox_dir_cls_pred=bbox_dir_cls_pred2,\n",
    "        #                         batched_labels=batched_bbox_labels, \n",
    "        #                         num_cls_pos=num_cls_pos, \n",
    "        #                         batched_bbox_reg=batched_bbox_reg2, \n",
    "        #                         batched_dir_labels=batched_dir_labels)\n",
    "        \n",
    "        loss0 = loss_dict0['total_loss'] \n",
    "        # loss1 = loss_dict1['total_loss']\n",
    "        # loss2 = loss_dict2['total_loss'] \n",
    "        loss = loss0 # + loss1 + loss2\n",
    "        loss.backward()\n",
    "\n",
    "        epoch_loss0 = epoch_loss0 + loss0.item()\n",
    "        # epoch_loss1 = epoch_loss1 + loss1.item()\n",
    "        # epoch_loss2 = epoch_loss2 + loss2.item()\n",
    "\n",
    "        # torch.nn.utils.clip_grad_norm_(pointpillars.parameters(), max_norm=35)\n",
    "        optimizer.step()\n",
    "        scheduler.step()\n",
    "\n",
    "\n",
    "\n",
    "        global_step = epoch * len(train_dataloader) + train_step + 1\n",
    "\n",
    "        if global_step % args.log_freq == 0:\n",
    "            save_summary(writer, loss_dict0, global_step, 'train',\n",
    "                            lr=optimizer.param_groups[0]['lr'], \n",
    "                            momentum=optimizer.param_groups[0]['betas'][0])\n",
    "        train_step += 1\n",
    "\n",
    "    training_loss0.append(epoch_loss0)\n",
    "    # training_loss1.append(epoch_loss1)\n",
    "    # training_loss2.append(epoch_loss2)\n",
    "\n",
    "    if (epoch + 1) % args.ckpt_freq_epoch == 0:\n",
    "        torch.save(pointpillars.state_dict(), os.path.join(saved_ckpt_path, f'epoch_{epoch+1}.pth'))\n",
    "\n",
    "        plt.figure()\n",
    "        plt.plot(np.array(training_loss0))\n",
    "        # plt.plot(np.array(training_loss1))\n",
    "        # plt.plot(np.array(training_loss2))\n",
    "        plt.title(\"Training Loss\")\n",
    "        plt.legend([\"64 channel\",\"32 channel\",\"16 channel\"])\n",
    "        plt.show()\n",
    "\n",
    "        plt.figure()\n",
    "        plt.plot(np.array(val_loss0))\n",
    "        # plt.plot(np.array(val_loss1))\n",
    "        # plt.plot(np.array(val_loss2))\n",
    "        plt.title(\"Validation Loss\")\n",
    "        plt.legend([\"64 channel\",\"32 channel\",\"16 channel\"])\n",
    "        plt.show()\n",
    "\n",
    "    if epoch % 2 == 0:\n",
    "        continue\n",
    "    pointpillars.eval()\n",
    "    with torch.no_grad():\n",
    "        for i, data_dict in enumerate(tqdm(val_dataloader)):\n",
    "            try:\n",
    "                if not args.no_cuda:\n",
    "                    # move the tensors to the cuda\n",
    "                    for key in data_dict:\n",
    "                        for j, item in enumerate(data_dict[key]):\n",
    "                            if torch.is_tensor(item):\n",
    "                                data_dict[key][j] = data_dict[key][j].cuda()\n",
    "                \n",
    "                batched_pts = data_dict['batched_pts']\n",
    "                batched_gt_bboxes = data_dict['batched_gt_bboxes']\n",
    "                batched_labels = data_dict['batched_labels']\n",
    "                batched_difficulty = data_dict['batched_difficulty']\n",
    "\n",
    "                bbox_cls_pred0, bbox_pred0, bbox_dir_cls_pred0, anchor_target_dict = pointpillars(batched_pts=batched_pts, \n",
    "                                            mode='train',\n",
    "                                            batched_gt_bboxes=batched_gt_bboxes, \n",
    "                                            batched_gt_labels=batched_labels)\\\n",
    "                    # bbox_cls_pred1, bbox_pred1, bbox_dir_cls_pred1, \\\n",
    "                    #     bbox_cls_pred2, bbox_pred2, bbox_dir_cls_pred2,  = \\\n",
    "\n",
    "                \n",
    "                ################# Full features #################\n",
    "                bbox_cls_pred0 = bbox_cls_pred0.permute(0, 2, 3, 1).reshape(-1, args.nclasses)\n",
    "                bbox_pred0 = bbox_pred0.permute(0, 2, 3, 1).reshape(-1, 7)\n",
    "                bbox_dir_cls_pred0 = bbox_dir_cls_pred0.permute(0, 2, 3, 1).reshape(-1, 2)\n",
    "\n",
    "                ################# Half features #################\n",
    "                # bbox_cls_pred1 = bbox_cls_pred1.permute(0, 2, 3, 1).reshape(-1, args.nclasses)\n",
    "                # bbox_pred1 = bbox_pred1.permute(0, 2, 3, 1).reshape(-1, 7)\n",
    "                # bbox_dir_cls_pred1 = bbox_dir_cls_pred1.permute(0, 2, 3, 1).reshape(-1, 2)\n",
    "\n",
    "                # ################# Quar features #################\n",
    "                # bbox_cls_pred2 = bbox_cls_pred2.permute(0, 2, 3, 1).reshape(-1, args.nclasses)\n",
    "                # bbox_pred2 = bbox_pred2.permute(0, 2, 3, 1).reshape(-1, 7)\n",
    "                # bbox_dir_cls_pred2 = bbox_dir_cls_pred2.permute(0, 2, 3, 1).reshape(-1, 2)\n",
    "\n",
    "\n",
    "                batched_bbox_labels = anchor_target_dict['batched_labels'].reshape(-1)\n",
    "                batched_label_weights = anchor_target_dict['batched_label_weights'].reshape(-1)\n",
    "                batched_bbox_reg = anchor_target_dict['batched_bbox_reg'].reshape(-1, 7)\n",
    "                batched_dir_labels = anchor_target_dict['batched_dir_labels'].reshape(-1)\n",
    "\n",
    "\n",
    "                \n",
    "                pos_idx = (batched_bbox_labels >= 0) & (batched_bbox_labels < args.nclasses)\n",
    "\n",
    "                bbox_pred0 = bbox_pred0[pos_idx]\n",
    "                # bbox_pred1 = bbox_pred1[pos_idx]\n",
    "                # bbox_pred2 = bbox_pred2[pos_idx]\n",
    "\n",
    "                batched_bbox_reg = batched_bbox_reg[pos_idx]\n",
    "                batched_bbox_reg0 = batched_bbox_reg.clone()\n",
    "                # batched_bbox_reg1 = batched_bbox_reg.clone()\n",
    "                # batched_bbox_reg2 = batched_bbox_reg.clone()\n",
    "\n",
    "                # sin(a - b) = sin(a)*cos(b) - cos(a)*sin(b)\n",
    "                bbox_pred0[:, -1] = torch.sin(bbox_pred0[:, -1].clone()) * torch.cos(batched_bbox_reg[:, -1].clone())\n",
    "                # bbox_pred1[:, -1] = torch.sin(bbox_pred1[:, -1].clone()) * torch.cos(batched_bbox_reg[:, -1].clone())\n",
    "                # bbox_pred2[:, -1] = torch.sin(bbox_pred2[:, -1].clone()) * torch.cos(batched_bbox_reg[:, -1].clone())\n",
    "\n",
    "                batched_bbox_reg0[:, -1] = torch.cos(bbox_pred0[:, -1].clone()) * torch.sin(batched_bbox_reg[:, -1].clone())\n",
    "                # batched_bbox_reg1[:, -1] = torch.cos(bbox_pred1[:, -1].clone()) * torch.sin(batched_bbox_reg[:, -1].clone())\n",
    "                # batched_bbox_reg2[:, -1] = torch.cos(bbox_pred2[:, -1].clone()) * torch.sin(batched_bbox_reg[:, -1].clone())\n",
    "\n",
    "\n",
    "                bbox_dir_cls_pred0 = bbox_dir_cls_pred0[pos_idx]\n",
    "                # bbox_dir_cls_pred1 = bbox_dir_cls_pred1[pos_idx]\n",
    "                # bbox_dir_cls_pred2 = bbox_dir_cls_pred2[pos_idx]\n",
    "\n",
    "                batched_dir_labels = batched_dir_labels[pos_idx]\n",
    "\n",
    "                num_cls_pos = (batched_bbox_labels < args.nclasses).sum()\n",
    "\n",
    "                bbox_cls_pred0 = bbox_cls_pred0[batched_label_weights > 0]\n",
    "                # bbox_cls_pred1 = bbox_cls_pred1[batched_label_weights > 0]\n",
    "                # bbox_cls_pred2 = bbox_cls_pred2[batched_label_weights > 0]\n",
    "\n",
    "                batched_bbox_labels[batched_bbox_labels < 0] = args.nclasses\n",
    "                batched_bbox_labels = batched_bbox_labels[batched_label_weights > 0]\n",
    "\n",
    "                loss_dict0 = loss_func(bbox_cls_pred=bbox_cls_pred0,\n",
    "                                        bbox_pred=bbox_pred0,\n",
    "                                        bbox_dir_cls_pred=bbox_dir_cls_pred0,\n",
    "                                        batched_labels=batched_bbox_labels, \n",
    "                                        num_cls_pos=num_cls_pos, \n",
    "                                        batched_bbox_reg=batched_bbox_reg0, \n",
    "                                        batched_dir_labels=batched_dir_labels)\n",
    "                \n",
    "                # loss_dict1 = loss_func(bbox_cls_pred=bbox_cls_pred1,\n",
    "                #                         bbox_pred=bbox_pred1,\n",
    "                #                         bbox_dir_cls_pred=bbox_dir_cls_pred1,\n",
    "                #                         batched_labels=batched_bbox_labels, \n",
    "                #                         num_cls_pos=num_cls_pos, \n",
    "                #                         batched_bbox_reg=batched_bbox_reg1, \n",
    "                #                         batched_dir_labels=batched_dir_labels)\n",
    "                \n",
    "                # loss_dict2 = loss_func(bbox_cls_pred=bbox_cls_pred2,\n",
    "                #                         bbox_pred=bbox_pred2,\n",
    "                #                         bbox_dir_cls_pred=bbox_dir_cls_pred2,\n",
    "                #                         batched_labels=batched_bbox_labels, \n",
    "                #                         num_cls_pos=num_cls_pos, \n",
    "                #                         batched_bbox_reg=batched_bbox_reg2, \n",
    "                #                         batched_dir_labels=batched_dir_labels)\n",
    "                \n",
    "                loss0 = loss_dict0['total_loss'] \n",
    "                # loss1 = loss_dict1['total_loss']\n",
    "                # loss2 = loss_dict2['total_loss'] \n",
    "\n",
    "                val_epoch_loss0 = val_epoch_loss0 + loss0.item()\n",
    "                # val_epoch_loss1 = val_epoch_loss1 + loss1.item()\n",
    "                # val_epoch_loss2 = val_epoch_loss2 + loss2.item()\n",
    "\n",
    "                global_step = epoch * len(val_dataloader) + val_step + 1\n",
    "                if global_step % args.log_freq == 0:\n",
    "                    save_summary(writer, loss_dict0, global_step, 'val')\n",
    "                val_step += 1\n",
    "            \n",
    "            except:\n",
    "                None\n",
    "\n",
    "    val_loss0.append(val_epoch_loss0)\n",
    "    # val_loss1.append(val_epoch_loss1)\n",
    "    # val_loss2.append(val_epoch_loss2)\n",
    "            \n",
    "    pointpillars.train()\n"
   ]
  },
  {
   "cell_type": "code",
   "execution_count": null,
   "metadata": {},
   "outputs": [],
   "source": [
    "plt.figure()\n",
    "plt.plot(np.array(training_loss0))\n",
    "# plt.plot(np.array(training_loss1))\n",
    "# plt.plot(np.array(training_loss2))\n",
    "plt.title(\"Training Loss\")\n",
    "plt.legend([\"64 channel\",\"32 channel\",\"16 channel\"])\n",
    "plt.savefig(\"Matryoshka_train_loss.png\")\n",
    "plt.show()\n",
    "\n",
    "plt.figure()\n",
    "plt.plot(np.array(val_loss0))\n",
    "# plt.plot(np.array(val_loss1))\n",
    "# plt.plot(np.array(val_loss2))\n",
    "plt.title(\"Validation Loss\")\n",
    "plt.legend([\"64 channel\",\"32 channel\",\"16 channel\"])\n",
    "plt.savefig(\"Matryoshka_val_loss.png\")\n",
    "plt.show()"
   ]
  }
 ],
 "metadata": {
  "kernelspec": {
   "display_name": "torch",
   "language": "python",
   "name": "python3"
  },
  "language_info": {
   "codemirror_mode": {
    "name": "ipython",
    "version": 3
   },
   "file_extension": ".py",
   "mimetype": "text/x-python",
   "name": "python",
   "nbconvert_exporter": "python",
   "pygments_lexer": "ipython3",
   "version": "3.8.19"
  }
 },
 "nbformat": 4,
 "nbformat_minor": 2
}
